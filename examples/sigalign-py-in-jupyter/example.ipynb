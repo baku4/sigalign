{
 "cells": [
  {
   "attachments": {},
   "cell_type": "markdown",
   "metadata": {},
   "source": [
    "# `sigalign` usage in python"
   ]
  },
  {
   "cell_type": "code",
   "execution_count": 1,
   "metadata": {},
   "outputs": [],
   "source": [
    "from sigalign import Reference, Aligner"
   ]
  },
  {
   "attachments": {},
   "cell_type": "markdown",
   "metadata": {},
   "source": [
    "## 1. Build `Reference`"
   ]
  },
  {
   "cell_type": "code",
   "execution_count": 2,
   "metadata": {},
   "outputs": [],
   "source": [
    "# Build Reference object from `iterable` of tuples (label, sequence).\n",
    "reference = Reference.from_iterable([\n",
    "    (\"target_1\", \"ACACAGATCGCAAACTCACAATTGTATTTCTTTGCCACCTGGGCATATACTTTTTGCGCCCCCTCATTTA\"),\n",
    "    (\"target_2\", \"TCTGGGGCCATTGTATTTCTTTGCCAGCTGGGGCATATACTTTTTCCGCCCCCTCATTTACGCTCATCAC\"),\n",
    "])\n",
    "# Or only sequences\n",
    "reference = Reference.from_iterable([\n",
    "    \"ACACAGATCGCAAACTCACAATTGTATTTCTTTGCCACCTGGGCATATACTTTTTGCGCCCCCTCATTTA\",\n",
    "    \"TCTGGGGCCATTGTATTTCTTTGCCAGCTGGGGCATATACTTTTTCCGCCCCCTCATTTACGCTCATCAC\",\n",
    "])\n",
    "# Bytes can be used instead of strings\n",
    "reference = Reference.from_iterable([\n",
    "    b\"ACACAGATCGCAAACTCACAATTGTATTTCTTTGCCACCTGGGCATATACTTTTTGCGCCCCCTCATTTA\",\n",
    "    b\"TCTGGGGCCATTGTATTTCTTTGCCAGCTGGGGCATATACTTTTTCCGCCCCCTCATTTACGCTCATCAC\",\n",
    "])\n",
    "\n",
    "# FASTA format can be used\n",
    "reference = Reference.from_fasta(b\"\"\">target_1\n",
    "ACACAGATCGCAAACTCACAATTGTATTTCTTTGCCACCTGGGCATATACTTTTTGCGCCCCCTCATTTA\n",
    ">target_2\n",
    "TCTGGGGCCATTGTATTTCTTTGCCAGCTGGGGCATATACTTTTTCCGCCCCCTCATTTACGCTCATCAC\"\"\")\n",
    "# Or from a file\n",
    "# reference = Reference.from_fasta_file(\"reference.fasta\")"
   ]
  },
  {
   "cell_type": "markdown",
   "metadata": {},
   "source": [
    "### Check status of `Reference`"
   ]
  },
  {
   "cell_type": "code",
   "execution_count": 3,
   "metadata": {},
   "outputs": [
    {
     "name": "stdout",
     "output_type": "stream",
     "text": [
      "# Reference Status\n",
      "  - Num targets: 2\n",
      "  - Total length: 140 bps\n",
      "  - Estimated size: 1.32 KiB\n"
     ]
    }
   ],
   "source": [
    "print(\"# Reference Status\")\n",
    "print(f\"  - Num targets: {reference.num_targets}\")\n",
    "print(f\"  - Total length: {reference.total_length} bps\")\n",
    "print(f\"  - Estimated size: {reference.estimated_size / 1024:.2f} KiB\")"
   ]
  },
  {
   "cell_type": "markdown",
   "metadata": {},
   "source": [
    "### Parse target label and sequence"
   ]
  },
  {
   "cell_type": "code",
   "execution_count": 4,
   "metadata": {},
   "outputs": [
    {
     "name": "stdout",
     "output_type": "stream",
     "text": [
      "# Target 0\n",
      "  - Label: target_1\n",
      "  - Sequence: ACACAGATCGCAAACTCACAATTGTATTTCTTTGCCACCTGGGCATATACTTTTTGCGCCCCCTCATTTA\n",
      "# Target 1\n",
      "  - Label: target_2\n",
      "  - Sequence: TCTGGGGCCATTGTATTTCTTTGCCAGCTGGGGCATATACTTTTTCCGCCCCCTCATTTACGCTCATCAC\n"
     ]
    }
   ],
   "source": [
    "for target_index in range(reference.num_targets):\n",
    "    print(f\"# Target {target_index}\")\n",
    "    print(f\"  - Label: {reference.get_label(target_index)}\")\n",
    "    print(f\"  - Sequence: {reference.get_sequence(target_index)}\")"
   ]
  },
  {
   "cell_type": "markdown",
   "metadata": {},
   "source": [
    "### Save and load"
   ]
  },
  {
   "cell_type": "code",
   "execution_count": 5,
   "metadata": {},
   "outputs": [],
   "source": [
    "# Save\n",
    "# reference.save_to_file(\"reference.sigref\")\n",
    "\n",
    "# Load\n",
    "# reference = Reference.load_from_file(\"reference.sigref\")"
   ]
  },
  {
   "attachments": {},
   "cell_type": "markdown",
   "metadata": {},
   "source": [
    "## 2. Initialize `Aligner`"
   ]
  },
  {
   "cell_type": "code",
   "execution_count": 6,
   "metadata": {},
   "outputs": [],
   "source": [
    "aligner = Aligner(\n",
    "    4,     # Mismatch penalty\n",
    "    6,     # Gap-open penalty\n",
    "    2,     # Gap-extend penalty\n",
    "    50,    # Minimum length\n",
    "    0.2,   # Maximum penalty per length\n",
    "    use_local_mode=True, # Use local alignment (default: True)\n",
    "    use_limit=None,      # Limit the number of alignments (default: None)\n",
    "    use_chunk=None,      # Align with chunked query with (chunk size, sliding window size) (default: None)\n",
    ")"
   ]
  },
  {
   "cell_type": "markdown",
   "metadata": {},
   "source": [
    "### Check status of `Aligner`"
   ]
  },
  {
   "cell_type": "code",
   "execution_count": 7,
   "metadata": {},
   "outputs": [
    {
     "name": "stdout",
     "output_type": "stream",
     "text": [
      "# Aligner Status\n",
      "  - Penalties\n",
      "    - Mismatch penalty: 4\n",
      "    - Gap-open penalty: 6\n",
      "    - Gap-extend penalty: 2\n",
      "  - Similarity Cutoffs\n",
      "    - Minimum length: 50\n",
      "    - Maximum penalty per length: 0.20\n",
      "  - Mode is Local\n",
      "    - Max alignments: Infinity\n",
      "    - Chunk: None\n"
     ]
    }
   ],
   "source": [
    "print(\"# Aligner Status\")\n",
    "print(\"  - Penalties\")\n",
    "print(f\"    - Mismatch penalty: {aligner.px}\")\n",
    "print(f\"    - Gap-open penalty: {aligner.po}\")\n",
    "print(f\"    - Gap-extend penalty: {aligner.pe}\")\n",
    "print(\"  - Similarity Cutoffs\")\n",
    "print(f\"    - Minimum length: {aligner.minl}\")\n",
    "print(f\"    - Maximum penalty per length: {aligner.maxp:.2f}\")\n",
    "print(f\"  - Mode is {'Local' if aligner.is_local_mode else 'Semi-global'}\")\n",
    "print(f\"    - Max alignments: {'Infinity' if aligner.limitation is None else aligner.limitation}\")\n",
    "print(f\"    - Chunk: {aligner.chunk}\")"
   ]
  },
  {
   "attachments": {},
   "cell_type": "markdown",
   "metadata": {},
   "source": [
    "## 3. Perform Alignment"
   ]
  },
  {
   "cell_type": "code",
   "execution_count": 8,
   "metadata": {},
   "outputs": [
    {
     "name": "stdout",
     "output_type": "stream",
     "text": [
      "FastaAlignment(num_read_alignments=1)\n"
     ]
    }
   ],
   "source": [
    "# Align a query str to the reference\n",
    "query = \"CAAACTCACAATTGTATTTCTTTGCCAGCTGGGCATATACTTTTTCCGCCCCCTCATTTAACTTCTTGGA\"\n",
    "results = aligner.align_query(query, reference)\n",
    "\n",
    "# Or query bytes can be used\n",
    "query = b\"CAAACTCACAATTGTATTTCTTTGCCAGCTGGGCATATACTTTTTCCGCCCCCTCATTTAACTTCTTGGA\"\n",
    "results = aligner.align_query(query, reference, with_label=True) # including label is slightly slower than without label (default: False)\n",
    "\n",
    "# FASTA (str or bytes) can be used\n",
    "fasta = b\"\"\">query_1\n",
    "CAAACTCACAATTGTATTTCTTTGCCAGCTGGGCATATACTTTTTCCGCCCCCTCATTTAACTTCTTGGA\"\"\"\n",
    "results = aligner.align_fasta(\n",
    "    fasta,\n",
    "    reference,\n",
    ")\n",
    "# Or file can be used:\n",
    "# results = aligner.align_fasta_file(\n",
    "#     \"path/to/file.fasta\",\n",
    "#     reference,\n",
    "# )\n",
    "\n",
    "# FASTQ (str or bytes) can be used:\n",
    "fastq = b\"\"\"@query_1\n",
    "CAAACTCACAATTGTATTTCTTTGCCAGCTGGGCATATACTTTTTCCGCCCCCTCATTTAACTTCTTGGA\n",
    "+\n",
    "IIIIIIIIIIIIIIIIIIIIIIIIIIIIIIIIIIIIIIIIIIIIIIIIIIIIIIIIIIIIIIIIIIIIII\"\"\"\n",
    "results = aligner.align_fastq(\n",
    "    fastq,\n",
    "    reference,\n",
    "    with_label=True, # include label in the result (default: False)\n",
    "    with_reverse_complementary=False, # align both forward and reverse complementary (default: False)\n",
    "    allow_interrupt=True, # allow interrupting with KeyboardInterrupt (default: False)\n",
    ")\n",
    "# Or file can be used:\n",
    "# results = aligner.align_fastq_file(\n",
    "#     \"path/to/file.fastq\",\n",
    "#     reference,\n",
    "# )\n",
    "\n",
    "print(results)"
   ]
  },
  {
   "cell_type": "markdown",
   "metadata": {},
   "source": [
    "### Print results"
   ]
  },
  {
   "cell_type": "code",
   "execution_count": 9,
   "metadata": {},
   "outputs": [
    {
     "name": "stdout",
     "output_type": "stream",
     "text": [
      "# Query: query_1 (is forward: True)\n",
      "  - Target: target_1 (index 0)\n",
      "    - Result 1\n",
      "      - Penalty: 8\n",
      "      - Length: 60\n",
      "      - Query position: (0, 60)\n",
      "      - Target position: (10, 70)\n",
      "  - Target: target_2 (index 1)\n",
      "    - Result 1\n",
      "      - Penalty: 8\n",
      "      - Length: 51\n",
      "      - Query position: (10, 60)\n",
      "      - Target position: (9, 60)\n"
     ]
    }
   ],
   "source": [
    "for read_alignment in results:\n",
    "    print(f\"# Query: {read_alignment.read} (is forward: {read_alignment.is_forward})\")\n",
    "    for target_alignment in read_alignment.result:\n",
    "        print(f\"  - Target: {target_alignment.label} (index {target_alignment.index})\")\n",
    "        for idx, alignment in enumerate(target_alignment.alignments):\n",
    "            print(f\"    - Result {idx+1}\")\n",
    "            print(f\"      - Penalty: {alignment.penalty}\")\n",
    "            print(f\"      - Length: {alignment.length}\")\n",
    "            print(f\"      - Query position: {alignment.query_position}\")\n",
    "            print(f\"      - Target position: {alignment.target_position}\")"
   ]
  },
  {
   "cell_type": "code",
   "execution_count": 10,
   "metadata": {},
   "outputs": [
    {
     "data": {
      "text/plain": [
       "[{'read': 'query_1',\n",
       "  'is_forward': True,\n",
       "  'result': [{'index': 0,\n",
       "    'label': 'target_1',\n",
       "    'alignments': [{'penalty': 8,\n",
       "      'length': 60,\n",
       "      'query_position': [0, 60],\n",
       "      'target_position': [10, 70],\n",
       "      'operations': [{'operation': 'Match', 'count': 27},\n",
       "       {'operation': 'Subst', 'count': 1},\n",
       "       {'operation': 'Match', 'count': 17},\n",
       "       {'operation': 'Subst', 'count': 1},\n",
       "       {'operation': 'Match', 'count': 14}]}]},\n",
       "   {'index': 1,\n",
       "    'label': 'target_2',\n",
       "    'alignments': [{'penalty': 8,\n",
       "      'length': 51,\n",
       "      'query_position': [10, 60],\n",
       "      'target_position': [9, 60],\n",
       "      'operations': [{'operation': 'Match', 'count': 23},\n",
       "       {'operation': 'Deletion', 'count': 1},\n",
       "       {'operation': 'Match', 'count': 27}]}]}]}]"
      ]
     },
     "execution_count": 10,
     "metadata": {},
     "output_type": "execute_result"
    }
   ],
   "source": [
    "# Convert results as json or dict\n",
    "import json\n",
    "json.loads(results.to_json())"
   ]
  },
  {
   "cell_type": "code",
   "execution_count": 11,
   "metadata": {},
   "outputs": [
    {
     "data": {
      "text/html": [
       "<div>\n",
       "<style scoped>\n",
       "    .dataframe tbody tr th:only-of-type {\n",
       "        vertical-align: middle;\n",
       "    }\n",
       "\n",
       "    .dataframe tbody tr th {\n",
       "        vertical-align: top;\n",
       "    }\n",
       "\n",
       "    .dataframe thead th {\n",
       "        text-align: right;\n",
       "    }\n",
       "</style>\n",
       "<table border=\"1\" class=\"dataframe\">\n",
       "  <thead>\n",
       "    <tr style=\"text-align: right;\">\n",
       "      <th></th>\n",
       "      <th>query_label</th>\n",
       "      <th>is_forward</th>\n",
       "      <th>target_index</th>\n",
       "      <th>target_label</th>\n",
       "      <th>penalty</th>\n",
       "      <th>length</th>\n",
       "      <th>query_start</th>\n",
       "      <th>query_end</th>\n",
       "      <th>target_start</th>\n",
       "      <th>target_end</th>\n",
       "      <th>CIGAR</th>\n",
       "    </tr>\n",
       "  </thead>\n",
       "  <tbody>\n",
       "    <tr>\n",
       "      <th>0</th>\n",
       "      <td>query_1</td>\n",
       "      <td>True</td>\n",
       "      <td>0</td>\n",
       "      <td>target_1</td>\n",
       "      <td>8</td>\n",
       "      <td>60</td>\n",
       "      <td>0</td>\n",
       "      <td>60</td>\n",
       "      <td>10</td>\n",
       "      <td>70</td>\n",
       "      <td>27=1X17=1X14=</td>\n",
       "    </tr>\n",
       "    <tr>\n",
       "      <th>1</th>\n",
       "      <td>query_1</td>\n",
       "      <td>True</td>\n",
       "      <td>1</td>\n",
       "      <td>target_2</td>\n",
       "      <td>8</td>\n",
       "      <td>51</td>\n",
       "      <td>10</td>\n",
       "      <td>60</td>\n",
       "      <td>9</td>\n",
       "      <td>60</td>\n",
       "      <td>23=1D27=</td>\n",
       "    </tr>\n",
       "  </tbody>\n",
       "</table>\n",
       "</div>"
      ],
      "text/plain": [
       "  query_label  is_forward  target_index target_label  penalty  length  \\\n",
       "0     query_1        True             0     target_1        8      60   \n",
       "1     query_1        True             1     target_2        8      51   \n",
       "\n",
       "   query_start  query_end  target_start  target_end          CIGAR  \n",
       "0            0         60            10          70  27=1X17=1X14=  \n",
       "1           10         60             9          60       23=1D27=  "
      ]
     },
     "execution_count": 11,
     "metadata": {},
     "output_type": "execute_result"
    }
   ],
   "source": [
    "# Convert results as table\n",
    "import pandas as pd\n",
    "df = pd.DataFrame(\n",
    "    results.to_rows(),\n",
    "    columns = [\n",
    "        'query_label', 'is_forward',\n",
    "        'target_index', 'target_label', 'penalty', 'length',\n",
    "        'query_start', 'query_end', 'target_start', 'target_end', 'CIGAR',\n",
    "    ],\n",
    ")\n",
    "df"
   ]
  },
  {
   "cell_type": "code",
   "execution_count": 12,
   "metadata": {},
   "outputs": [
    {
     "data": {
      "text/html": [
       "<div><style>\n",
       ".dataframe > thead > tr,\n",
       ".dataframe > tbody > tr {\n",
       "  text-align: right;\n",
       "  white-space: pre-wrap;\n",
       "}\n",
       "</style>\n",
       "<small>shape: (2, 11)</small><table border=\"1\" class=\"dataframe\"><thead><tr><th>query_label</th><th>is_forward</th><th>target_index</th><th>target_label</th><th>penalty</th><th>length</th><th>query_start</th><th>query_end</th><th>target_start</th><th>target_end</th><th>CIGAR</th></tr><tr><td>str</td><td>bool</td><td>i64</td><td>str</td><td>i64</td><td>i64</td><td>i64</td><td>i64</td><td>i64</td><td>i64</td><td>str</td></tr></thead><tbody><tr><td>&quot;query_1&quot;</td><td>true</td><td>0</td><td>&quot;target_1&quot;</td><td>8</td><td>60</td><td>0</td><td>60</td><td>10</td><td>70</td><td>&quot;27=1X17=1X14=&quot;</td></tr><tr><td>&quot;query_1&quot;</td><td>true</td><td>1</td><td>&quot;target_2&quot;</td><td>8</td><td>51</td><td>10</td><td>60</td><td>9</td><td>60</td><td>&quot;23=1D27=&quot;</td></tr></tbody></table></div>"
      ],
      "text/plain": [
       "shape: (2, 11)\n",
       "┌───────────┬───────────┬───────────┬───────────┬───┬───────────┬───────────┬───────────┬──────────┐\n",
       "│ query_lab ┆ is_forwar ┆ target_in ┆ target_la ┆ … ┆ query_end ┆ target_st ┆ target_en ┆ CIGAR    │\n",
       "│ el        ┆ d         ┆ dex       ┆ bel       ┆   ┆ ---       ┆ art       ┆ d         ┆ ---      │\n",
       "│ ---       ┆ ---       ┆ ---       ┆ ---       ┆   ┆ i64       ┆ ---       ┆ ---       ┆ str      │\n",
       "│ str       ┆ bool      ┆ i64       ┆ str       ┆   ┆           ┆ i64       ┆ i64       ┆          │\n",
       "╞═══════════╪═══════════╪═══════════╪═══════════╪═══╪═══════════╪═══════════╪═══════════╪══════════╡\n",
       "│ query_1   ┆ true      ┆ 0         ┆ target_1  ┆ … ┆ 60        ┆ 10        ┆ 70        ┆ 27=1X17= │\n",
       "│           ┆           ┆           ┆           ┆   ┆           ┆           ┆           ┆ 1X14=    │\n",
       "│ query_1   ┆ true      ┆ 1         ┆ target_2  ┆ … ┆ 60        ┆ 9         ┆ 60        ┆ 23=1D27= │\n",
       "└───────────┴───────────┴───────────┴───────────┴───┴───────────┴───────────┴───────────┴──────────┘"
      ]
     },
     "execution_count": 12,
     "metadata": {},
     "output_type": "execute_result"
    }
   ],
   "source": [
    "import polars as pl\n",
    "\n",
    "df = pl.DataFrame(\n",
    "    results.to_rows(),\n",
    "    orient=\"row\",\n",
    "    schema=[\n",
    "        'query_label', 'is_forward',\n",
    "        'target_index', 'target_label', 'penalty', 'length',\n",
    "        'query_start', 'query_end', 'target_start', 'target_end', 'CIGAR',\n",
    "    ],\n",
    ")\n",
    "\n",
    "df"
   ]
  },
  {
   "cell_type": "code",
   "execution_count": null,
   "metadata": {},
   "outputs": [],
   "source": []
  }
 ],
 "metadata": {
  "interpreter": {
   "hash": "f882d685c49ea15d1bbb39a2322e487770999cc24ff5b6e39a2c9b18a17dd61f"
  },
  "kernelspec": {
   "display_name": "Python 3.9.7 64-bit ('sigalign-py': conda)",
   "language": "python",
   "name": "python3"
  },
  "language_info": {
   "codemirror_mode": {
    "name": "ipython",
    "version": 3
   },
   "file_extension": ".py",
   "mimetype": "text/x-python",
   "name": "python",
   "nbconvert_exporter": "python",
   "pygments_lexer": "ipython3",
   "version": "3.10.14"
  },
  "orig_nbformat": 4
 },
 "nbformat": 4,
 "nbformat_minor": 2
}
