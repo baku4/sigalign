{
 "cells": [
  {
   "attachments": {},
   "cell_type": "markdown",
   "metadata": {},
   "source": [
    "# `sigalign` usage in python"
   ]
  },
  {
   "cell_type": "code",
   "execution_count": 1,
   "metadata": {},
   "outputs": [],
   "source": [
    "from sigalign import Reference, Aligner"
   ]
  },
  {
   "attachments": {},
   "cell_type": "markdown",
   "metadata": {},
   "source": [
    "## 1. Build `Reference`"
   ]
  },
  {
   "cell_type": "code",
   "execution_count": 2,
   "metadata": {},
   "outputs": [],
   "source": [
    "reference = Reference(\n",
    "    targets = [\n",
    "        (\"target_1\", \"ACACAGATCGCAAACTCACAATTGTATTTCTTTGCCACCTGGGCATATACTTTTTGCGCCCCCTCATTTA\"),\n",
    "        (\"target_2\", \"TCTGGGGCCATTGTATTTCTTTGCCAGCTGGGGCATATACTTTTTCCGCCCCCTCATTTACGCTCATCAC\"),\n",
    "    ], indexing_option= {\n",
    "        \"sasr\": 2,      # Suffix array sampling ratio\n",
    "        \"lts\": 10_000,  # Lookup table size (Bytes)\n",
    "    },\n",
    ")\n",
    "# `Reference` can be built from FASTA file\n",
    "# reference = Reference.from_fasta_file(fasta_file_path)"
   ]
  },
  {
   "cell_type": "code",
   "execution_count": 3,
   "metadata": {},
   "outputs": [
    {
     "name": "stdout",
     "output_type": "stream",
     "text": [
      "# Reference Status\n",
      " - Num_targets: 2\n",
      " - Estimated_total_bytes: 31.44 KiB\n"
     ]
    }
   ],
   "source": [
    "print(\"# Reference Status\")\n",
    "print(f\" - Num_targets: {reference.num_targets}\")\n",
    "print(f\" - Estimated_total_bytes: {reference.estimated_size / 1024:.2f} KiB\")"
   ]
  },
  {
   "attachments": {},
   "cell_type": "markdown",
   "metadata": {},
   "source": [
    "## 2. Initialize `Aligner`"
   ]
  },
  {
   "cell_type": "code",
   "execution_count": 4,
   "metadata": {},
   "outputs": [],
   "source": [
    "aligner = Aligner(\n",
    "    4,     # Mismatch penalty\n",
    "    6,     # Gap-open penalty\n",
    "    2,     # Gap-extend penalty\n",
    "    50,    # Minimum length\n",
    "    0.2,   # Maximum penalty per length\n",
    ")"
   ]
  },
  {
   "cell_type": "code",
   "execution_count": 5,
   "metadata": {},
   "outputs": [
    {
     "name": "stdout",
     "output_type": "stream",
     "text": [
      "# Aligner Status\n",
      "  - Penalties\n",
      "    - Mismatch penalty: 4\n",
      "    - Gap-open penalty: 6\n",
      "    - Gap-extend penalty: 2\n",
      "  - Similarity Cutoffs\n",
      "    - Minimum length: 50\n",
      "    - Maximum penalty per length: 0.2\n",
      "  - Mode is Local\n"
     ]
    }
   ],
   "source": [
    "print(\"# Aligner Status\")\n",
    "print(\"  - Penalties\")\n",
    "print(f\"    - Mismatch penalty: {aligner.px}\")\n",
    "print(f\"    - Gap-open penalty: {aligner.po}\")\n",
    "print(f\"    - Gap-extend penalty: {aligner.pe}\")\n",
    "print(\"  - Similarity Cutoffs\")\n",
    "print(f\"    - Minimum length: {aligner.ml}\")\n",
    "print(f\"    - Maximum penalty per length: {aligner.mpl:.1f}\")\n",
    "print(f\"  - Mode is {'Local' if aligner.is_local_mode else 'Semi-global'}\")"
   ]
  },
  {
   "attachments": {},
   "cell_type": "markdown",
   "metadata": {},
   "source": [
    "## 3. Perform Alignment"
   ]
  },
  {
   "cell_type": "code",
   "execution_count": 6,
   "metadata": {},
   "outputs": [
    {
     "name": "stdout",
     "output_type": "stream",
     "text": [
      "QueryResult(num_target_results=2)\n"
     ]
    }
   ],
   "source": [
    "query = \"CAAACTCACAATTGTATTTCTTTGCCAGCTGGGCATATACTTTTTCCGCCCCCTCATTTAACTTCTTGGA\"\n",
    "\n",
    "results = aligner.align_query(reference, query)\n",
    "\n",
    "# FASTA file can be used:\n",
    "# result = aligner.align_fasta_file(\n",
    "#     reference,\n",
    "#     fasta_file_path,\n",
    "# )\n",
    "\n",
    "print(results)"
   ]
  },
  {
   "cell_type": "code",
   "execution_count": 7,
   "metadata": {},
   "outputs": [
    {
     "name": "stdout",
     "output_type": "stream",
     "text": [
      "# Target index: 0\n",
      "  - Result: 1\n",
      "    - Penalty: 8\n",
      "    - Length: 60\n",
      "    - Query position: (0, 60)\n",
      "    - Target position: (10, 70)\n",
      "# Target index: 1\n",
      "  - Result: 1\n",
      "    - Penalty: 8\n",
      "    - Length: 51\n",
      "    - Query position: (10, 60)\n",
      "    - Target position: (9, 60)\n"
     ]
    }
   ],
   "source": [
    "for target_result in results:\n",
    "    print(f\"# Target index: {target_result.index}\")\n",
    "    for idx, alignment in enumerate(target_result.alignments):\n",
    "        print(f\"  - Result: {idx+1}\")\n",
    "        print(f\"    - Penalty: {alignment.penalty}\")\n",
    "        print(f\"    - Length: {alignment.length}\")\n",
    "        print(f\"    - Query position: {alignment.query_position}\")\n",
    "        print(f\"    - Target position: {alignment.target_position}\")"
   ]
  },
  {
   "cell_type": "code",
   "execution_count": 8,
   "metadata": {},
   "outputs": [
    {
     "data": {
      "text/plain": [
       "[{'index': 0,\n",
       "  'label': 'target_1',\n",
       "  'alignments': [{'penalty': 8,\n",
       "    'length': 60,\n",
       "    'query_position': [0, 60],\n",
       "    'target_position': [10, 70],\n",
       "    'operations': [{'case': 'M', 'count': 27},\n",
       "     {'case': 'S', 'count': 1},\n",
       "     {'case': 'M', 'count': 17},\n",
       "     {'case': 'S', 'count': 1},\n",
       "     {'case': 'M', 'count': 14}]}]},\n",
       " {'index': 1,\n",
       "  'label': 'target_2',\n",
       "  'alignments': [{'penalty': 8,\n",
       "    'length': 51,\n",
       "    'query_position': [10, 60],\n",
       "    'target_position': [9, 60],\n",
       "    'operations': [{'case': 'M', 'count': 23},\n",
       "     {'case': 'I', 'count': 1},\n",
       "     {'case': 'M', 'count': 27}]}]}]"
      ]
     },
     "execution_count": 8,
     "metadata": {},
     "output_type": "execute_result"
    }
   ],
   "source": [
    "# Convert results as json or dict\n",
    "import json\n",
    "json.loads(results.to_json())"
   ]
  },
  {
   "cell_type": "code",
   "execution_count": 9,
   "metadata": {},
   "outputs": [
    {
     "data": {
      "text/html": [
       "<div>\n",
       "<style scoped>\n",
       "    .dataframe tbody tr th:only-of-type {\n",
       "        vertical-align: middle;\n",
       "    }\n",
       "\n",
       "    .dataframe tbody tr th {\n",
       "        vertical-align: top;\n",
       "    }\n",
       "\n",
       "    .dataframe thead th {\n",
       "        text-align: right;\n",
       "    }\n",
       "</style>\n",
       "<table border=\"1\" class=\"dataframe\">\n",
       "  <thead>\n",
       "    <tr style=\"text-align: right;\">\n",
       "      <th></th>\n",
       "      <th>index</th>\n",
       "      <th>label</th>\n",
       "      <th>penalty</th>\n",
       "      <th>length</th>\n",
       "      <th>qstart</th>\n",
       "      <th>qend</th>\n",
       "      <th>tstart</th>\n",
       "      <th>tend</th>\n",
       "      <th>operations</th>\n",
       "    </tr>\n",
       "  </thead>\n",
       "  <tbody>\n",
       "    <tr>\n",
       "      <th>0</th>\n",
       "      <td>0</td>\n",
       "      <td>target_1</td>\n",
       "      <td>8</td>\n",
       "      <td>60</td>\n",
       "      <td>0</td>\n",
       "      <td>60</td>\n",
       "      <td>10</td>\n",
       "      <td>70</td>\n",
       "      <td>M27S1M17S1M14</td>\n",
       "    </tr>\n",
       "    <tr>\n",
       "      <th>1</th>\n",
       "      <td>1</td>\n",
       "      <td>target_2</td>\n",
       "      <td>8</td>\n",
       "      <td>51</td>\n",
       "      <td>10</td>\n",
       "      <td>60</td>\n",
       "      <td>9</td>\n",
       "      <td>60</td>\n",
       "      <td>M23I1M27</td>\n",
       "    </tr>\n",
       "  </tbody>\n",
       "</table>\n",
       "</div>"
      ],
      "text/plain": [
       "   index     label  penalty  length  qstart  qend  tstart  tend     operations\n",
       "0      0  target_1        8      60       0    60      10    70  M27S1M17S1M14\n",
       "1      1  target_2        8      51      10    60       9    60       M23I1M27"
      ]
     },
     "execution_count": 9,
     "metadata": {},
     "output_type": "execute_result"
    }
   ],
   "source": [
    "# Convert results as table\n",
    "import pandas as pd\n",
    "df = pd.DataFrame(\n",
    "    results.to_table(),\n",
    "    columns = [\n",
    "        'index', 'label', 'penalty', 'length',\n",
    "        'qstart', 'qend', 'tstart', 'tend', 'operations',\n",
    "    ]\n",
    ")\n",
    "df"
   ]
  },
  {
   "cell_type": "code",
   "execution_count": null,
   "metadata": {},
   "outputs": [],
   "source": []
  }
 ],
 "metadata": {
  "interpreter": {
   "hash": "f882d685c49ea15d1bbb39a2322e487770999cc24ff5b6e39a2c9b18a17dd61f"
  },
  "kernelspec": {
   "display_name": "Python 3.9.7 64-bit ('sigalign-py': conda)",
   "language": "python",
   "name": "python3"
  },
  "language_info": {
   "codemirror_mode": {
    "name": "ipython",
    "version": 3
   },
   "file_extension": ".py",
   "mimetype": "text/x-python",
   "name": "python",
   "nbconvert_exporter": "python",
   "pygments_lexer": "ipython3",
   "version": "3.11.0"
  },
  "orig_nbformat": 4
 },
 "nbformat": 4,
 "nbformat_minor": 2
}
